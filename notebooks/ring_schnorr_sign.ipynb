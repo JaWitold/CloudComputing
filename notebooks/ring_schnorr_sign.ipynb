{
 "cells": [
  {
   "cell_type": "code",
   "execution_count": 1,
   "id": "initial_id",
   "metadata": {
    "is_executing": true,
    "pycharm": {
     "is_executing": true
    }
   },
   "outputs": [],
   "source": [
    "import sys\n",
    "from random import shuffle, randint\n",
    "\n",
    "sys.path.insert(1, '/home/jawitold/mcl')\n",
    "\n",
    "from mcl import Fr, G1"
   ]
  },
  {
   "cell_type": "code",
   "execution_count": 2,
   "id": "23037fee",
   "metadata": {
    "collapsed": false,
    "jupyter": {
     "outputs_hidden": false
    }
   },
   "outputs": [],
   "source": [
    "def generate_pairwise_different_random_values(n: int, random_values=None):\n",
    "    if random_values is None:\n",
    "        random_values = []\n",
    "    while len(random_values) < n:\n",
    "        random_value = Fr.rnd()\n",
    "        try:\n",
    "            random_values.index(random_value)\n",
    "        except:\n",
    "            random_values.append(random_value)\n",
    "    return random_values"
   ]
  },
  {
   "cell_type": "code",
   "execution_count": 3,
   "id": "6971ad698ce2c122",
   "metadata": {
    "collapsed": false,
    "is_executing": true,
    "jupyter": {
     "outputs_hidden": false
    }
   },
   "outputs": [],
   "source": [
    "class Prover:\n",
    "    def __init__(self, _g: G1):\n",
    "        # keygen\n",
    "        self.a = Fr.rnd()\n",
    "        self.A = g * self.a\n",
    "        self.g = _g\n",
    "\n",
    "    def r_sign(self, m: bytes, Y: list):\n",
    "        \"\"\"\n",
    "        :param m: message in byte form\n",
    "        :param Y: list of public keys excluding one matching `x`\n",
    "        :return:\n",
    "        \"\"\"\n",
    "\n",
    "        aa = generate_pairwise_different_random_values(len(Y))\n",
    "        rr = [self.g * a_i for a_i in aa]\n",
    "        hh = [G1.hashAndMapTo(m + bytes(r_i)) for r_i in rr]\n",
    "\n",
    "        temp = G1()\n",
    "        p = Fr()\n",
    "        for y_i, h_i in (zip(Y, hh)):\n",
    "            p.setInt(int.from_bytes(h_i.getStr(), 'little'))\n",
    "            temp = temp + y_i * -p\n",
    "        while True:\n",
    "            ax = Fr.rnd()\n",
    "            cond = False\n",
    "            rx = g * ax + temp\n",
    "\n",
    "            for r_i in rr:\n",
    "                if rx == r_i:\n",
    "                    cond = True\n",
    "                    break\n",
    "            if not rx.isZero() and not cond:\n",
    "                break\n",
    "        hx = Fr()\n",
    "        hx.setInt(int.from_bytes(G1.hashAndMapTo(m + bytes(rx)).getStr(), 'little'))\n",
    "\n",
    "        s = Fr()\n",
    "        for a_i in aa:\n",
    "            s += a_i\n",
    "        s += ax + self.a * hx\n",
    "\n",
    "        index = randint(0, len(Y))\n",
    "        rr.insert(index, rx)\n",
    "        Y.insert(index, g * self.a)\n",
    "\n",
    "        return rr, s, Y"
   ]
  },
  {
   "cell_type": "code",
   "execution_count": 4,
   "id": "5bfdf6b7532ca8a1",
   "metadata": {
    "collapsed": false,
    "is_executing": true,
    "jupyter": {
     "outputs_hidden": false
    }
   },
   "outputs": [],
   "source": [
    "class Verifier:\n",
    "\n",
    "    def __init__(self, _g: G1):\n",
    "        self.g = _g\n",
    "\n",
    "    def r_verify(self, m: bytes, signature):\n",
    "        rr, s, Y = signature\n",
    "        hh = []\n",
    "        for r_i in rr:\n",
    "            h_i = Fr()\n",
    "            h_i.setInt(int.from_bytes(G1.hashAndMapTo(m + bytes(r_i)).getStr(), 'little'))\n",
    "            hh.append(h_i)\n",
    "\n",
    "        sum_t = G1()\n",
    "        for hi, ri, yi in zip(hh, rr, Y):\n",
    "            sum_t += ri + yi * hi\n",
    "        gs = self.g * s\n",
    "        res = gs == sum_t\n",
    "        return res"
   ]
  },
  {
   "cell_type": "code",
   "execution_count": 5,
   "id": "49c7160be482ff91",
   "metadata": {
    "collapsed": false,
    "is_executing": true,
    "jupyter": {
     "outputs_hidden": false
    }
   },
   "outputs": [],
   "source": [
    "# setup\n",
    "g = G1.hashAndMapTo(b\"test\")"
   ]
  },
  {
   "cell_type": "code",
   "execution_count": 6,
   "id": "dbdf473c",
   "metadata": {
    "collapsed": false,
    "jupyter": {
     "outputs_hidden": false
    }
   },
   "outputs": [],
   "source": [
    "# dummy public keys\n",
    "PKI = [g * Fr.rnd() for _ in range(10)]\n",
    "shuffle(PKI)"
   ]
  },
  {
   "cell_type": "code",
   "execution_count": 7,
   "id": "43f8bf4c82c52750",
   "metadata": {
    "collapsed": false,
    "is_executing": true,
    "jupyter": {
     "outputs_hidden": false
    }
   },
   "outputs": [],
   "source": [
    "p = Prover(g)\n",
    "v = Verifier(g)"
   ]
  },
  {
   "cell_type": "code",
   "execution_count": 8,
   "id": "ffcbf58be789587a",
   "metadata": {
    "collapsed": false,
    "is_executing": true,
    "jupyter": {
     "outputs_hidden": false
    }
   },
   "outputs": [
    {
     "name": "stdout",
     "output_type": "stream",
     "text": [
      "True\n"
     ]
    }
   ],
   "source": [
    "s = p.r_sign(b'message', PKI)\n",
    "print(v.r_verify(b'message', s))"
   ]
  }
 ],
 "metadata": {
  "kernelspec": {
   "display_name": "Python 3 (ipykernel)",
   "language": "python",
   "name": "python3"
  },
  "language_info": {
   "codemirror_mode": {
    "name": "ipython",
    "version": 3
   },
   "file_extension": ".py",
   "mimetype": "text/x-python",
   "name": "python",
   "nbconvert_exporter": "python",
   "pygments_lexer": "ipython3",
   "version": "3.10.12"
  }
 },
 "nbformat": 4,
 "nbformat_minor": 5
}
