{
 "cells": [
  {
   "cell_type": "code",
   "execution_count": 1,
   "id": "d06a77f8-115c-409d-8b0d-40444d21e065",
   "metadata": {},
   "outputs": [],
   "source": [
    "import sys\n",
    "\n",
    "sys.path.insert(1, '/home/jawitold/mcl')\n",
    "\n",
    "from mcl import Fr, G1, G2, GT"
   ]
  },
  {
   "cell_type": "code",
   "execution_count": 2,
   "id": "0d0c1c38-3ee2-4037-a4ac-4ed19dfcf4f4",
   "metadata": {},
   "outputs": [],
   "source": [
    "class HSM:\n",
    "        def __init__(self):\n",
    "            self.a_ = Fr.rnd()\n",
    "            \n",
    "        def get_pk(self, g__):\n",
    "            return g__ * self.a_"
   ]
  },
  {
   "cell_type": "code",
   "execution_count": 3,
   "id": "9bfe0cd9-452c-47b5-bb47-bb23152c9263",
   "metadata": {},
   "outputs": [],
   "source": [
    "class Prover:            \n",
    "    def __init__(self, g__: G1):\n",
    "        self.hsm = HSM()\n",
    "        \n",
    "        self.g__ = g__\n",
    "\n",
    "        self.x_ = Fr.rnd()\n",
    "        self.x__ = g__ * self.x_\n",
    "\n",
    "    def get_pk(self):\n",
    "        return self.hsm.get_pk(self.g__)\n",
    "\n",
    "    def get_x(self) -> G1:\n",
    "        return self.x__\n",
    "\n",
    "    def get_s(self, c_: Fr) -> G2:\n",
    "        g___ = G2.hashAndMapTo(self.x__.getStr() + c_.getStr())\n",
    "        return g___ * self.x_ + self.hsm.get_pk(g___) * c_"
   ]
  },
  {
   "cell_type": "code",
   "execution_count": 4,
   "id": "bcfda168-20ed-4849-a2a3-49029edf6de4",
   "metadata": {},
   "outputs": [],
   "source": [
    "class Verifier:\n",
    "\n",
    "    def __init__(self, g__: G1, a__: G1):\n",
    "        self.x__ = None\n",
    "        self.c_ = None\n",
    "        self.g__ = g__\n",
    "        self.a__ = a__\n",
    "\n",
    "    def set_x(self, x__: G1):\n",
    "        self.x__ = x__\n",
    "\n",
    "    def get_c(self) -> Fr:\n",
    "        self.c_ = Fr.rnd()\n",
    "        return self.c_\n",
    "\n",
    "    def verify(self, s___: G2) -> bool:\n",
    "        g___ = G2.hashAndMapTo(self.x__.getStr() + self.c_.getStr())\n",
    "\n",
    "        return GT.pairing(self.g__, s___) == GT.pairing(self.x__ + (self.a__ * self.c_), g___)"
   ]
  },
  {
   "cell_type": "code",
   "execution_count": 5,
   "id": "10f9f132-1585-476d-8339-36f1609c6254",
   "metadata": {},
   "outputs": [],
   "source": [
    "# setup\n",
    "seed = b\"test\"\n",
    "g__ = G1.hashAndMapTo(seed)"
   ]
  },
  {
   "cell_type": "code",
   "execution_count": 6,
   "id": "95697e2e-c263-4687-bd6c-a9dfe720cec8",
   "metadata": {},
   "outputs": [],
   "source": [
    "prover = Prover(g__)\n",
    "verifier = Verifier(g__, prover.get_pk())"
   ]
  },
  {
   "cell_type": "code",
   "execution_count": 7,
   "id": "ab8cd1fe-80a9-4e62-b494-36a6f24d97c4",
   "metadata": {},
   "outputs": [],
   "source": [
    "x__ = prover.get_x()\n",
    "verifier.set_x(x__)"
   ]
  },
  {
   "cell_type": "code",
   "execution_count": 8,
   "id": "1943a9d9-c9cc-4ffc-80f1-38c6773f1aa2",
   "metadata": {},
   "outputs": [],
   "source": [
    "c_ = verifier.get_c()"
   ]
  },
  {
   "cell_type": "code",
   "execution_count": 9,
   "id": "a6151cb2-1c0e-41f5-95a9-898344445061",
   "metadata": {},
   "outputs": [],
   "source": [
    "s___ = prover.get_s(c_)"
   ]
  },
  {
   "cell_type": "code",
   "execution_count": 10,
   "id": "8827e0e7-d471-44b2-830f-56eedaea74cd",
   "metadata": {},
   "outputs": [
    {
     "name": "stdout",
     "output_type": "stream",
     "text": [
      "True\n"
     ]
    }
   ],
   "source": [
    "print(verifier.verify(s___))"
   ]
  }
 ],
 "metadata": {
  "kernelspec": {
   "display_name": "Python 3 (ipykernel)",
   "language": "python",
   "name": "python3"
  },
  "language_info": {
   "codemirror_mode": {
    "name": "ipython",
    "version": 3
   },
   "file_extension": ".py",
   "mimetype": "text/x-python",
   "name": "python",
   "nbconvert_exporter": "python",
   "pygments_lexer": "ipython3",
   "version": "3.10.12"
  }
 },
 "nbformat": 4,
 "nbformat_minor": 5
}
