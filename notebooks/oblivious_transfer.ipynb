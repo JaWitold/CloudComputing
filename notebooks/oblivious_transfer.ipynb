{
 "cells": [
  {
   "cell_type": "code",
   "execution_count": 1,
   "id": "3794251a-4509-4803-b0f9-d9ed97b5e576",
   "metadata": {},
   "outputs": [],
   "source": [
    "import json\n",
    "import sys\n",
    "from typing import Any, Union\n",
    "from Crypto.Cipher import AES\n",
    "from Crypto.Util.Padding import pad, unpad\n",
    "\n",
    "from mcl import Fr, G1\n",
    "\n",
    "sys.path.insert(1, '/home/jawitold/mcl')"
   ]
  },
  {
   "cell_type": "code",
   "execution_count": 2,
   "id": "be933168-cfbc-400d-bbc4-1cb34b04a7ee",
   "metadata": {},
   "outputs": [],
   "source": [
    "def custom_encoder(obj: Any) -> Union[str, bytes]:\n",
    "    if hasattr(obj, 'getStr'):\n",
    "        return obj.getStr()\n",
    "    elif isinstance(obj, bytes):\n",
    "        return obj.decode('latin-1')\n",
    "    raise TypeError(\"Object of unsupported type\")\n",
    "\n",
    "\n",
    "def save_to_json(file_path: str, value: Any) -> None:\n",
    "    with open(file_path, 'w') as json_file:\n",
    "        json_file.write(json.dumps(value, default=custom_encoder))\n",
    "\n",
    "\n",
    "def load_from_json(file_path: str) -> Any:\n",
    "    with open(file_path, 'r') as file:\n",
    "        return json.load(file)"
   ]
  },
  {
   "cell_type": "code",
   "execution_count": 3,
   "id": "8f22e0fa-18b9-4104-b24f-46e74cfa6146",
   "metadata": {},
   "outputs": [],
   "source": [
    "def deserialize_rand(data):\n",
    "    # print(data)\n",
    "    res = []\n",
    "    for rand in data:\n",
    "        rand_ = Fr()\n",
    "        rand_.setStr(bytes(rand, 'latin-1'))\n",
    "        res.append(rand_)\n",
    "    return res   \n",
    "\n",
    "def deserialize_w(data: str):\n",
    "    g = G1()\n",
    "    g.setStr(bytes(data, 'latin-1'))\n",
    "    return g\n",
    "\n",
    "\n",
    "def deserialize_keys(data):\n",
    "    return [bytes(key, 'latin-1') for key in data]\n",
    "\n",
    "\n",
    "def deserialize_ciphertexts(data):\n",
    "    return [(bytes(iv, 'latin-1'), bytes(ct, 'latin-1')) for iv, ct in data]"
   ]
  },
  {
   "cell_type": "code",
   "execution_count": 4,
   "id": "02a83776-ee65-4408-9a26-d00228f1a0c5",
   "metadata": {},
   "outputs": [],
   "source": [
    "class Client:\n",
    "    index: int = 0\n",
    "\n",
    "    def __init__(self, seed: bytes, index: int) -> None:\n",
    "        self.g__ = G1.hashAndMapTo(seed)\n",
    "        self.alpha = Fr()\n",
    "        self.index = index\n",
    "\n",
    "    def get_w(self, rand__: list[G1]) -> G1:\n",
    "        self.alpha = Fr.rnd()\n",
    "        return rand__[self.index] * self.alpha\n",
    "\n",
    "    def decode(self, ciphertexts: list[tuple[bytes | bytearray | memoryview, bytes]]):\n",
    "        iv, ciphertext = ciphertexts[self.index]\n",
    "        cipher = AES.new(((self.g__ * self.alpha).getStr())[:16], AES.MODE_CBC, iv)\n",
    "        pt = unpad(cipher.decrypt(ciphertext), AES.block_size)\n",
    "        return pt.decode()"
   ]
  },
  {
   "cell_type": "code",
   "execution_count": 5,
   "id": "c8f8e1bf-0be8-47f6-929a-ffdb7f966401",
   "metadata": {},
   "outputs": [],
   "source": [
    "class Cloud:\n",
    "    def __init__(self, seed: str, messages: list[str]) -> None:\n",
    "        self.g__ = G1.hashAndMapTo(seed)\n",
    "        self.messages = messages\n",
    "        self.rand_ = [Fr.rnd() for _ in messages]\n",
    "        self.rand__ = [self.g__ * rand_ for rand_ in self.rand_]\n",
    "\n",
    "    def get_keys(self, w__: G1) -> list[bytes]:\n",
    "        neutral_element = Fr.setHashOf(b'1') / Fr.setHashOf(b'1')\n",
    "        return [((w__ * (neutral_element / rand_)).getStr())[:16] for rand_ in self.rand_]\n",
    "\n",
    "    def encode(self, keys: list[bytes]) -> list[tuple[bytes | bytearray | memoryview, bytes]]:\n",
    "        ciphertexts = []\n",
    "        for key, message in zip(keys, self.messages):\n",
    "            cipher = AES.new(key, AES.MODE_CBC)\n",
    "            ciphertext = cipher.encrypt(pad(message.encode(), AES.block_size))\n",
    "            ciphertexts.append((cipher.iv, ciphertext))\n",
    "        return ciphertexts"
   ]
  },
  {
   "cell_type": "code",
   "execution_count": 6,
   "id": "985181fb-b357-47a4-bc34-23672d746635",
   "metadata": {},
   "outputs": [],
   "source": [
    "seed = b'seed'\n",
    "messages = ['test', 'tatatat']"
   ]
  },
  {
   "cell_type": "code",
   "execution_count": 7,
   "id": "3ac1fbc6-f252-45fa-880b-b2e73773d2f5",
   "metadata": {},
   "outputs": [],
   "source": [
    "client_instance = Client(seed, 0)"
   ]
  },
  {
   "cell_type": "code",
   "execution_count": 8,
   "id": "e8706625-d2dd-41f1-8c9d-bb12960fcd00",
   "metadata": {},
   "outputs": [],
   "source": [
    "cloud_instance = Cloud(seed, messages)"
   ]
  },
  {
   "cell_type": "code",
   "execution_count": 9,
   "id": "4ba5bbac-9b85-4936-806b-a3068f3f59f8",
   "metadata": {},
   "outputs": [],
   "source": [
    "# Cloud\n",
    "save_to_json('../data/ot/rand.json', cloud_instance.rand__)"
   ]
  },
  {
   "cell_type": "code",
   "execution_count": 10,
   "id": "9208f8a5-6aa6-43d8-8ab4-1b0029730f9b",
   "metadata": {},
   "outputs": [
    {
     "name": "stdout",
     "output_type": "stream",
     "text": [
      "[<class 'mcl.structures.Fr.Fr'> 1, <class 'mcl.structures.Fr.Fr'> 1]\n"
     ]
    }
   ],
   "source": [
    "# Client\n",
    "l_rand = load_from_json('../data/ot/rand.json')\n",
    "deserialized_rand__ = deserialize_rand(l_rand)\n",
    "w__ = client_instance.get_w(deserialized_rand__)\n",
    "save_to_json('../data/ot/w.json', w__)"
   ]
  },
  {
   "cell_type": "code",
   "execution_count": 11,
   "id": "749383dc-2506-47f4-8e34-1d58bdad03ef",
   "metadata": {},
   "outputs": [],
   "source": [
    "# Client\n",
    "l_w = load_from_json('../data/ot/w.json')\n",
    "deserialized_w__ = deserialize_w(l_w)\n",
    "keys = cloud_instance.get_keys(deserialized_w__)\n",
    "save_to_json('../data/ot/keys.json', keys)"
   ]
  },
  {
   "cell_type": "code",
   "execution_count": 12,
   "id": "8acc8570-55e5-42e2-bf15-d006159cf70b",
   "metadata": {},
   "outputs": [
    {
     "ename": "ValueError",
     "evalue": "Incorrect AES key length (1 bytes)",
     "output_type": "error",
     "traceback": [
      "\u001b[0;31m---------------------------------------------------------------------------\u001b[0m",
      "\u001b[0;31mValueError\u001b[0m                                Traceback (most recent call last)",
      "Cell \u001b[0;32mIn[12], line 4\u001b[0m\n\u001b[1;32m      2\u001b[0m l_keys \u001b[38;5;241m=\u001b[39m load_from_json(\u001b[38;5;124m'\u001b[39m\u001b[38;5;124m../data/ot/keys.json\u001b[39m\u001b[38;5;124m'\u001b[39m)\n\u001b[1;32m      3\u001b[0m deserialized_keys \u001b[38;5;241m=\u001b[39m deserialize_keys(l_keys)\n\u001b[0;32m----> 4\u001b[0m ciphertexts \u001b[38;5;241m=\u001b[39m \u001b[43mcloud_instance\u001b[49m\u001b[38;5;241;43m.\u001b[39;49m\u001b[43mencode\u001b[49m\u001b[43m(\u001b[49m\u001b[43mdeserialized_keys\u001b[49m\u001b[43m)\u001b[49m\n\u001b[1;32m      5\u001b[0m save_to_json(\u001b[38;5;124m'\u001b[39m\u001b[38;5;124m../data/ot/ciphertexts.json\u001b[39m\u001b[38;5;124m'\u001b[39m, ciphertexts)\n",
      "Cell \u001b[0;32mIn[5], line 15\u001b[0m, in \u001b[0;36mCloud.encode\u001b[0;34m(self, keys)\u001b[0m\n\u001b[1;32m     13\u001b[0m ciphertexts \u001b[38;5;241m=\u001b[39m []\n\u001b[1;32m     14\u001b[0m \u001b[38;5;28;01mfor\u001b[39;00m key, message \u001b[38;5;129;01min\u001b[39;00m \u001b[38;5;28mzip\u001b[39m(keys, \u001b[38;5;28mself\u001b[39m\u001b[38;5;241m.\u001b[39mmessages):\n\u001b[0;32m---> 15\u001b[0m     cipher \u001b[38;5;241m=\u001b[39m \u001b[43mAES\u001b[49m\u001b[38;5;241;43m.\u001b[39;49m\u001b[43mnew\u001b[49m\u001b[43m(\u001b[49m\u001b[43mkey\u001b[49m\u001b[43m,\u001b[49m\u001b[43m \u001b[49m\u001b[43mAES\u001b[49m\u001b[38;5;241;43m.\u001b[39;49m\u001b[43mMODE_CBC\u001b[49m\u001b[43m)\u001b[49m\n\u001b[1;32m     16\u001b[0m     ciphertext \u001b[38;5;241m=\u001b[39m cipher\u001b[38;5;241m.\u001b[39mencrypt(pad(message\u001b[38;5;241m.\u001b[39mencode(), AES\u001b[38;5;241m.\u001b[39mblock_size))\n\u001b[1;32m     17\u001b[0m     ciphertexts\u001b[38;5;241m.\u001b[39mappend((cipher\u001b[38;5;241m.\u001b[39miv, ciphertext))\n",
      "File \u001b[0;32m~/.local/lib/python3.10/site-packages/Crypto/Cipher/AES.py:228\u001b[0m, in \u001b[0;36mnew\u001b[0;34m(key, mode, *args, **kwargs)\u001b[0m\n\u001b[1;32m    128\u001b[0m \u001b[38;5;124;03m\"\"\"Create a new AES cipher.\u001b[39;00m\n\u001b[1;32m    129\u001b[0m \n\u001b[1;32m    130\u001b[0m \u001b[38;5;124;03mArgs:\u001b[39;00m\n\u001b[0;32m   (...)\u001b[0m\n\u001b[1;32m    224\u001b[0m \u001b[38;5;124;03m    an AES object, of the applicable mode.\u001b[39;00m\n\u001b[1;32m    225\u001b[0m \u001b[38;5;124;03m\"\"\"\u001b[39;00m\n\u001b[1;32m    227\u001b[0m kwargs[\u001b[38;5;124m\"\u001b[39m\u001b[38;5;124madd_aes_modes\u001b[39m\u001b[38;5;124m\"\u001b[39m] \u001b[38;5;241m=\u001b[39m \u001b[38;5;28;01mTrue\u001b[39;00m\n\u001b[0;32m--> 228\u001b[0m \u001b[38;5;28;01mreturn\u001b[39;00m \u001b[43m_create_cipher\u001b[49m\u001b[43m(\u001b[49m\u001b[43msys\u001b[49m\u001b[38;5;241;43m.\u001b[39;49m\u001b[43mmodules\u001b[49m\u001b[43m[\u001b[49m\u001b[38;5;18;43m__name__\u001b[39;49m\u001b[43m]\u001b[49m\u001b[43m,\u001b[49m\u001b[43m \u001b[49m\u001b[43mkey\u001b[49m\u001b[43m,\u001b[49m\u001b[43m \u001b[49m\u001b[43mmode\u001b[49m\u001b[43m,\u001b[49m\u001b[43m \u001b[49m\u001b[38;5;241;43m*\u001b[39;49m\u001b[43margs\u001b[49m\u001b[43m,\u001b[49m\u001b[43m \u001b[49m\u001b[38;5;241;43m*\u001b[39;49m\u001b[38;5;241;43m*\u001b[39;49m\u001b[43mkwargs\u001b[49m\u001b[43m)\u001b[49m\n",
      "File \u001b[0;32m~/.local/lib/python3.10/site-packages/Crypto/Cipher/__init__.py:79\u001b[0m, in \u001b[0;36m_create_cipher\u001b[0;34m(factory, key, mode, *args, **kwargs)\u001b[0m\n\u001b[1;32m     76\u001b[0m     \u001b[38;5;28;01melif\u001b[39;00m mode \u001b[38;5;241m==\u001b[39m \u001b[38;5;241m1\u001b[39m:\n\u001b[1;32m     77\u001b[0m         \u001b[38;5;28;01mraise\u001b[39;00m \u001b[38;5;167;01mTypeError\u001b[39;00m(\u001b[38;5;124m\"\u001b[39m\u001b[38;5;124mIV is not meaningful for the ECB mode\u001b[39m\u001b[38;5;124m\"\u001b[39m)\n\u001b[0;32m---> 79\u001b[0m \u001b[38;5;28;01mreturn\u001b[39;00m \u001b[43mmodes\u001b[49m\u001b[43m[\u001b[49m\u001b[43mmode\u001b[49m\u001b[43m]\u001b[49m\u001b[43m(\u001b[49m\u001b[43mfactory\u001b[49m\u001b[43m,\u001b[49m\u001b[43m \u001b[49m\u001b[38;5;241;43m*\u001b[39;49m\u001b[38;5;241;43m*\u001b[39;49m\u001b[43mkwargs\u001b[49m\u001b[43m)\u001b[49m\n",
      "File \u001b[0;32m~/.local/lib/python3.10/site-packages/Crypto/Cipher/_mode_cbc.py:274\u001b[0m, in \u001b[0;36m_create_cbc_cipher\u001b[0;34m(factory, **kwargs)\u001b[0m\n\u001b[1;32m    255\u001b[0m \u001b[38;5;28;01mdef\u001b[39;00m \u001b[38;5;21m_create_cbc_cipher\u001b[39m(factory, \u001b[38;5;241m*\u001b[39m\u001b[38;5;241m*\u001b[39mkwargs):\n\u001b[1;32m    256\u001b[0m     \u001b[38;5;124;03m\"\"\"Instantiate a cipher object that performs CBC encryption/decryption.\u001b[39;00m\n\u001b[1;32m    257\u001b[0m \n\u001b[1;32m    258\u001b[0m \u001b[38;5;124;03m    :Parameters:\u001b[39;00m\n\u001b[0;32m   (...)\u001b[0m\n\u001b[1;32m    271\u001b[0m \u001b[38;5;124;03m    to be present).\u001b[39;00m\n\u001b[1;32m    272\u001b[0m \u001b[38;5;124;03m    \"\"\"\u001b[39;00m\n\u001b[0;32m--> 274\u001b[0m     cipher_state \u001b[38;5;241m=\u001b[39m \u001b[43mfactory\u001b[49m\u001b[38;5;241;43m.\u001b[39;49m\u001b[43m_create_base_cipher\u001b[49m\u001b[43m(\u001b[49m\u001b[43mkwargs\u001b[49m\u001b[43m)\u001b[49m\n\u001b[1;32m    275\u001b[0m     iv \u001b[38;5;241m=\u001b[39m kwargs\u001b[38;5;241m.\u001b[39mpop(\u001b[38;5;124m\"\u001b[39m\u001b[38;5;124mIV\u001b[39m\u001b[38;5;124m\"\u001b[39m, \u001b[38;5;28;01mNone\u001b[39;00m)\n\u001b[1;32m    276\u001b[0m     IV \u001b[38;5;241m=\u001b[39m kwargs\u001b[38;5;241m.\u001b[39mpop(\u001b[38;5;124m\"\u001b[39m\u001b[38;5;124miv\u001b[39m\u001b[38;5;124m\"\u001b[39m, \u001b[38;5;28;01mNone\u001b[39;00m)\n",
      "File \u001b[0;32m~/.local/lib/python3.10/site-packages/Crypto/Cipher/AES.py:90\u001b[0m, in \u001b[0;36m_create_base_cipher\u001b[0;34m(dict_parameters)\u001b[0m\n\u001b[1;32m     87\u001b[0m     \u001b[38;5;28;01mraise\u001b[39;00m \u001b[38;5;167;01mTypeError\u001b[39;00m(\u001b[38;5;124m\"\u001b[39m\u001b[38;5;124mMissing \u001b[39m\u001b[38;5;124m'\u001b[39m\u001b[38;5;124mkey\u001b[39m\u001b[38;5;124m'\u001b[39m\u001b[38;5;124m parameter\u001b[39m\u001b[38;5;124m\"\u001b[39m)\n\u001b[1;32m     89\u001b[0m \u001b[38;5;28;01mif\u001b[39;00m \u001b[38;5;28mlen\u001b[39m(key) \u001b[38;5;129;01mnot\u001b[39;00m \u001b[38;5;129;01min\u001b[39;00m key_size:\n\u001b[0;32m---> 90\u001b[0m     \u001b[38;5;28;01mraise\u001b[39;00m \u001b[38;5;167;01mValueError\u001b[39;00m(\u001b[38;5;124m\"\u001b[39m\u001b[38;5;124mIncorrect AES key length (\u001b[39m\u001b[38;5;132;01m%d\u001b[39;00m\u001b[38;5;124m bytes)\u001b[39m\u001b[38;5;124m\"\u001b[39m \u001b[38;5;241m%\u001b[39m \u001b[38;5;28mlen\u001b[39m(key))\n\u001b[1;32m     92\u001b[0m \u001b[38;5;28;01mif\u001b[39;00m use_aesni \u001b[38;5;129;01mand\u001b[39;00m _raw_aesni_lib:\n\u001b[1;32m     93\u001b[0m     start_operation \u001b[38;5;241m=\u001b[39m _raw_aesni_lib\u001b[38;5;241m.\u001b[39mAESNI_start_operation\n",
      "\u001b[0;31mValueError\u001b[0m: Incorrect AES key length (1 bytes)"
     ]
    }
   ],
   "source": [
    "# Cloud\n",
    "l_keys = load_from_json('../data/ot/keys.json')\n",
    "deserialized_keys = deserialize_keys(l_keys)\n",
    "ciphertexts = cloud_instance.encode(deserialized_keys)\n",
    "save_to_json('../data/ot/ciphertexts.json', ciphertexts)"
   ]
  },
  {
   "cell_type": "code",
   "execution_count": null,
   "id": "19ed5978-9077-4684-8c05-3642f5e6fe45",
   "metadata": {},
   "outputs": [],
   "source": [
    "# Client\n",
    "l_ciphertexts = load_from_json('../data/ot/ciphertexts.json')\n",
    "deserialized_ciphertexts = deserialize_ciphertexts(l_ciphertexts)\n",
    "plain = client_instance.decode(ciphertexts)\n",
    "print(plain)"
   ]
  }
 ],
 "metadata": {
  "kernelspec": {
   "display_name": "Python 3 (ipykernel)",
   "language": "python",
   "name": "python3"
  },
  "language_info": {
   "codemirror_mode": {
    "name": "ipython",
    "version": 3
   },
   "file_extension": ".py",
   "mimetype": "text/x-python",
   "name": "python",
   "nbconvert_exporter": "python",
   "pygments_lexer": "ipython3",
   "version": "3.10.12"
  }
 },
 "nbformat": 4,
 "nbformat_minor": 5
}
