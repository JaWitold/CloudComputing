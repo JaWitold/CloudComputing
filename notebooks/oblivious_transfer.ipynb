{
 "cells": [
  {
   "cell_type": "code",
   "execution_count": 1,
   "id": "3794251a-4509-4803-b0f9-d9ed97b5e576",
   "metadata": {},
   "outputs": [],
   "source": [
    "import json\n",
    "import sys\n",
    "from typing import Any, Union\n",
    "from Crypto.Cipher import AES\n",
    "from Crypto.Util.Padding import pad, unpad\n",
    "\n",
    "from mcl import Fr, G1\n",
    "\n",
    "sys.path.insert(1, '/home/jawitold/mcl')"
   ]
  },
  {
   "cell_type": "code",
   "execution_count": 2,
   "id": "be933168-cfbc-400d-bbc4-1cb34b04a7ee",
   "metadata": {},
   "outputs": [],
   "source": [
    "def custom_encoder(obj: Any) -> Union[str, bytes]:\n",
    "    if hasattr(obj, 'getStr'):\n",
    "        return obj.getStr()\n",
    "    elif isinstance(obj, bytes):\n",
    "        return obj.decode('latin-1')\n",
    "    raise TypeError(\"Object of unsupported type\")\n",
    "\n",
    "\n",
    "def save_to_json(file_path: str, value: Any) -> None:\n",
    "    with open(file_path, 'w') as json_file:\n",
    "        json_file.write(json.dumps(value, default=custom_encoder))\n",
    "\n",
    "\n",
    "def load_from_json(file_path: str) -> Any:\n",
    "    with open(file_path, 'r') as file:\n",
    "        return json.load(file)"
   ]
  },
  {
   "cell_type": "code",
   "execution_count": 3,
   "id": "8f22e0fa-18b9-4104-b24f-46e74cfa6146",
   "metadata": {},
   "outputs": [],
   "source": [
    "def deserialize_rand(data):\n",
    "    res = []\n",
    "    for rand in data:\n",
    "        rand_ = G1()\n",
    "        rand_.setStr(bytes(rand, 'latin-1'))\n",
    "        res.append(rand_)\n",
    "    return res   \n",
    "\n",
    "def deserialize_w(data: str):\n",
    "    g = G1()\n",
    "    g.setStr(bytes(data, 'latin-1'))\n",
    "    return g\n",
    "\n",
    "\n",
    "def deserialize_keys(data):\n",
    "    return [bytes(key, 'latin-1') for key in data]\n",
    "\n",
    "\n",
    "def deserialize_ciphertexts(data):\n",
    "    return [(bytes(iv, 'latin-1'), bytes(ct, 'latin-1')) for iv, ct in data]"
   ]
  },
  {
   "cell_type": "code",
   "execution_count": 4,
   "id": "02a83776-ee65-4408-9a26-d00228f1a0c5",
   "metadata": {},
   "outputs": [],
   "source": [
    "class Client:\n",
    "    index: int = 0\n",
    "\n",
    "    def __init__(self, seed: bytes, index: int) -> None:\n",
    "        self.g__ = G1.hashAndMapTo(seed)\n",
    "        self.alpha = Fr()\n",
    "        self.index = index\n",
    "\n",
    "    def get_w(self, rand__: list[G1]) -> G1:\n",
    "        self.alpha = Fr.rnd()\n",
    "        return rand__[self.index] * self.alpha\n",
    "\n",
    "    def decode(self, ciphertexts: list[tuple[bytes | bytearray | memoryview, bytes]]):\n",
    "        iv, ciphertext = ciphertexts[self.index]\n",
    "        cipher = AES.new(((self.g__ * self.alpha).getStr())[:16], AES.MODE_CBC, iv)\n",
    "        pt = unpad(cipher.decrypt(ciphertext), AES.block_size)\n",
    "        return pt.decode()"
   ]
  },
  {
   "cell_type": "code",
   "execution_count": 5,
   "id": "c8f8e1bf-0be8-47f6-929a-ffdb7f966401",
   "metadata": {},
   "outputs": [],
   "source": [
    "class Cloud:\n",
    "    def __init__(self, seed: bytes, messages: list[bytes]) -> None:\n",
    "        self.g__ = G1.hashAndMapTo(seed)\n",
    "        self.messages = messages\n",
    "        self.rand_ = [Fr.rnd() for _ in messages]\n",
    "        self.rand__ = [self.g__ * rand_ for rand_ in self.rand_]\n",
    "\n",
    "    def get_keys(self, w__: G1) -> list[bytes]:\n",
    "        neutral_element = Fr.setHashOf(b'1') / Fr.setHashOf(b'1')\n",
    "        return [((w__ * (neutral_element / rand_)).getStr())[:16] for rand_ in self.rand_]\n",
    "\n",
    "    def encode(self, keys: list[bytes]) -> list[tuple[bytes | bytearray | memoryview, bytes]]:\n",
    "        ciphertexts = []\n",
    "        for key, message in zip(keys, self.messages):\n",
    "            cipher = AES.new(key, AES.MODE_CBC)\n",
    "            ciphertext = cipher.encrypt(pad(message, AES.block_size))\n",
    "            ciphertexts.append((cipher.iv, ciphertext))\n",
    "        return ciphertexts"
   ]
  },
  {
   "cell_type": "code",
   "execution_count": 6,
   "id": "985181fb-b357-47a4-bc34-23672d746635",
   "metadata": {},
   "outputs": [],
   "source": [
    "seed = b'seed'\n",
    "messages = [b'test', b'tatatat', b'jaklsd']"
   ]
  },
  {
   "cell_type": "code",
   "execution_count": 7,
   "id": "3ac1fbc6-f252-45fa-880b-b2e73773d2f5",
   "metadata": {},
   "outputs": [],
   "source": [
    "client_instance = Client(seed, 3)"
   ]
  },
  {
   "cell_type": "code",
   "execution_count": 8,
   "id": "e8706625-d2dd-41f1-8c9d-bb12960fcd00",
   "metadata": {},
   "outputs": [],
   "source": [
    "cloud_instance = Cloud(seed, messages)"
   ]
  },
  {
   "cell_type": "code",
   "execution_count": 9,
   "id": "4ba5bbac-9b85-4936-806b-a3068f3f59f8",
   "metadata": {},
   "outputs": [],
   "source": [
    "# Cloud\n",
    "save_to_json('../data/ot/rand.json', cloud_instance.rand__)"
   ]
  },
  {
   "cell_type": "code",
   "execution_count": 10,
   "id": "9208f8a5-6aa6-43d8-8ab4-1b0029730f9b",
   "metadata": {},
   "outputs": [],
   "source": [
    "# Client\n",
    "l_rand = load_from_json('../data/ot/rand.json')\n",
    "deserialized_rand__ = deserialize_rand(l_rand)\n",
    "w__ = client_instance.get_w(deserialized_rand__)\n",
    "save_to_json('../data/ot/w.json', w__)"
   ]
  },
  {
   "cell_type": "code",
   "execution_count": 11,
   "id": "749383dc-2506-47f4-8e34-1d58bdad03ef",
   "metadata": {},
   "outputs": [],
   "source": [
    "# Client\n",
    "l_w = load_from_json('../data/ot/w.json')\n",
    "deserialized_w__ = deserialize_w(l_w)\n",
    "keys = cloud_instance.get_keys(deserialized_w__)\n",
    "save_to_json('../data/ot/keys.json', keys)"
   ]
  },
  {
   "cell_type": "code",
   "execution_count": 12,
   "id": "8acc8570-55e5-42e2-bf15-d006159cf70b",
   "metadata": {},
   "outputs": [],
   "source": [
    "# Cloud\n",
    "l_keys = load_from_json('../data/ot/keys.json')\n",
    "deserialized_keys = deserialize_keys(l_keys)\n",
    "ciphertexts = cloud_instance.encode(deserialized_keys)\n",
    "save_to_json('../data/ot/ciphertexts.json', ciphertexts)"
   ]
  },
  {
   "cell_type": "code",
   "execution_count": 13,
   "id": "19ed5978-9077-4684-8c05-3642f5e6fe45",
   "metadata": {},
   "outputs": [
    {
     "name": "stdout",
     "output_type": "stream",
     "text": [
      "test\n"
     ]
    }
   ],
   "source": [
    "# Client\n",
    "l_ciphertexts = load_from_json('../data/ot/ciphertexts.json')\n",
    "deserialized_ciphertexts = deserialize_ciphertexts(l_ciphertexts)\n",
    "plain = client_instance.decode(deserialized_ciphertexts)\n",
    "print(plain)"
   ]
  }
 ],
 "metadata": {
  "kernelspec": {
   "display_name": "Python 3 (ipykernel)",
   "language": "python",
   "name": "python3"
  },
  "language_info": {
   "codemirror_mode": {
    "name": "ipython",
    "version": 3
   },
   "file_extension": ".py",
   "mimetype": "text/x-python",
   "name": "python",
   "nbconvert_exporter": "python",
   "pygments_lexer": "ipython3",
   "version": "3.10.12"
  }
 },
 "nbformat": 4,
 "nbformat_minor": 5
}
