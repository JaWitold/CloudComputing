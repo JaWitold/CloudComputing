{
 "cells": [
  {
   "cell_type": "code",
   "execution_count": 1,
   "metadata": {},
   "outputs": [],
   "source": [
    "import sys\n",
    "\n",
    "from typing import Tuple, Union\n",
    "from mcl import Fr, G1\n",
    "\n",
    "sys.path.insert(1, '/home/jawitold/mcl')"
   ]
  },
  {
   "cell_type": "code",
   "execution_count": 2,
   "metadata": {},
   "outputs": [],
   "source": [
    "class HSM:\n",
    "        def __init__(self):\n",
    "            self.a_ = Fr.rnd()\n",
    "            \n",
    "        def get_pk(self, g__: G1) -> G1:\n",
    "            return g__ * self.a_\n",
    "            \n",
    "        def get_s(self, x_: Fr, c_: Fr) -> Fr:\n",
    "            return x_ + self.a_ * c_"
   ]
  },
  {
   "cell_type": "code",
   "execution_count": 3,
   "metadata": {
    "collapsed": false,
    "jupyter": {
     "outputs_hidden": false
    }
   },
   "outputs": [],
   "source": [
    "class Prover:\n",
    "    def __init__(self, g1__: G1, g2__: G1):\n",
    "        self.hsm1 = HSM()\n",
    "        self.hsm2 = HSM()\n",
    "        \n",
    "        self.g1__ = g1__\n",
    "        self.g2__ = g2__\n",
    "        \n",
    "        self.x1_ = Fr()\n",
    "        self.x2_ = Fr()\n",
    "\n",
    "    def get_pk(self) -> G1:\n",
    "        return self.hsm1.get_pk(self.g1__) + self.hsm2.get_pk(self.g2__)\n",
    "\n",
    "    def get_x__(self) -> G1:\n",
    "        self.x1_ = Fr.rnd()\n",
    "        self.x2_ = Fr.rnd()\n",
    "        return (self.g1__ * self.x1_) + (self.g2__ * self.x2_)\n",
    "\n",
    "    def get_s1_s2_(self, c_: Fr) -> Tuple[Fr, Fr]:\n",
    "        return  self.hsm1.get_s(self.x1_, c_), self.hsm2.get_s(self.x2_, c_)"
   ]
  },
  {
   "cell_type": "code",
   "execution_count": 4,
   "metadata": {
    "collapsed": false,
    "jupyter": {
     "outputs_hidden": false
    }
   },
   "outputs": [],
   "source": [
    "class Verifier:\n",
    "    def __init__(self, g1__: G1, g2__: G1, a__: G1):\n",
    "        self.x__ = G1()\n",
    "        self.c_ = Fr()\n",
    "\n",
    "        self.g1__ = g1__\n",
    "        self.g2__ = g2__\n",
    "        self.a__ = a__\n",
    "\n",
    "    def set_x__(self, x__: G1) -> None:\n",
    "        self.x__ = x__\n",
    "\n",
    "    def get_c_(self) -> Fr:\n",
    "        self.c_ = Fr.rnd()\n",
    "        return self.c_\n",
    "\n",
    "    def verify(self, s: Tuple[Fr, Fr]) -> bool:\n",
    "        s1_, s2_ = s\n",
    "        return (self.g1__ * s1_) + (self.g2__ * s2_) == self.x__ + (self.a__ * self.c_)"
   ]
  },
  {
   "cell_type": "code",
   "execution_count": 5,
   "metadata": {
    "collapsed": false,
    "jupyter": {
     "outputs_hidden": false
    }
   },
   "outputs": [],
   "source": [
    "seed = b\"test\"\n",
    "g1__ = G1().hashAndMapTo(seed)\n",
    "g2__ = G1().hashAndMapTo(seed + b'1')"
   ]
  },
  {
   "cell_type": "code",
   "execution_count": 6,
   "metadata": {
    "collapsed": false,
    "jupyter": {
     "outputs_hidden": false
    }
   },
   "outputs": [],
   "source": [
    "prover = Prover(g1__, g2__)\n",
    "verifier = Verifier(g1__, g2__, prover.get_pk())"
   ]
  },
  {
   "cell_type": "code",
   "execution_count": 7,
   "metadata": {
    "collapsed": false,
    "jupyter": {
     "outputs_hidden": false
    }
   },
   "outputs": [],
   "source": [
    "x__ = prover.get_x__()\n",
    "verifier.set_x__(x__)"
   ]
  },
  {
   "cell_type": "code",
   "execution_count": 8,
   "metadata": {
    "collapsed": false,
    "jupyter": {
     "outputs_hidden": false
    }
   },
   "outputs": [],
   "source": [
    "c_ = verifier.get_c_()"
   ]
  },
  {
   "cell_type": "code",
   "execution_count": 9,
   "metadata": {
    "collapsed": false,
    "jupyter": {
     "outputs_hidden": false
    },
    "pycharm": {
     "is_executing": true
    }
   },
   "outputs": [
    {
     "name": "stdout",
     "output_type": "stream",
     "text": [
      "True\n"
     ]
    }
   ],
   "source": [
    "s = prover.get_s1_s2_(c_)\n",
    "print(verifier.verify(s))"
   ]
  }
 ],
 "metadata": {
  "kernelspec": {
   "display_name": "Python 3 (ipykernel)",
   "language": "python",
   "name": "python3"
  },
  "language_info": {
   "codemirror_mode": {
    "name": "ipython",
    "version": 3
   },
   "file_extension": ".py",
   "mimetype": "text/x-python",
   "name": "python",
   "nbconvert_exporter": "python",
   "pygments_lexer": "ipython3",
   "version": "3.10.12"
  }
 },
 "nbformat": 4,
 "nbformat_minor": 4
}
