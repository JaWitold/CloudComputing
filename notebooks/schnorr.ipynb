{
 "cells": [
  {
   "cell_type": "code",
   "execution_count": null,
   "id": "initial_id",
   "metadata": {
    "is_executing": true,
    "pycharm": {
     "is_executing": true
    }
   },
   "outputs": [],
   "source": [
    "import sys\n",
    "sys.path.insert(1, '/home/jawitold/mcl')\n",
    "\n",
    "from mcl import Fr, G1"
   ]
  },
  {
   "cell_type": "code",
   "execution_count": 2,
   "id": "6971ad698ce2c122",
   "metadata": {
    "collapsed": false,
    "is_executing": true
   },
   "outputs": [],
   "source": [
    "class Prover:\n",
    "\n",
    "    def __init__(self, g__: G1, a_: Fr):\n",
    "        self.a_ = a_\n",
    "        self.g__ = g__\n",
    "        self.x_ = Fr.rnd()\n",
    "        self.x__ = g__ * self.x_\n",
    "\n",
    "    def get_x(self) -> G1:\n",
    "        return self.x__\n",
    "\n",
    "    def get_s(self, c_: Fr) -> Fr:\n",
    "        return self.x_ + self.a_ * c_"
   ]
  },
  {
   "cell_type": "code",
   "execution_count": 3,
   "id": "5bfdf6b7532ca8a1",
   "metadata": {
    "collapsed": false,
    "is_executing": true
   },
   "outputs": [],
   "source": [
    "class Verifier:\n",
    "\n",
    "    def __init__(self, g__: G1, a__: G1):\n",
    "        self.x__ = None\n",
    "        self.c_ = None\n",
    "        self.g__ = g__\n",
    "        self.a__ = a__\n",
    "\n",
    "    def set_x(self, x__: G1):\n",
    "        self.x__ = x__\n",
    "\n",
    "    def get_c(self) -> Fr:\n",
    "        self.c_ = Fr.rnd()\n",
    "        return self.c_\n",
    "\n",
    "    def verify(self, s_: Fr) -> bool:\n",
    "        return self.g__ * s_ == self.x__ + (self.a__ * self.c_)\n"
   ]
  },
  {
   "cell_type": "code",
   "execution_count": 4,
   "id": "49c7160be482ff91",
   "metadata": {
    "collapsed": false,
    "is_executing": true
   },
   "outputs": [],
   "source": [
    "# setup\n",
    "\n",
    "g__ = G1.hashAndMapTo(b\"test\")"
   ]
  },
  {
   "cell_type": "code",
   "execution_count": 5,
   "id": "8da44684c7601035",
   "metadata": {
    "collapsed": false,
    "is_executing": true
   },
   "outputs": [],
   "source": [
    "# keygen\n",
    "a_ = Fr.rnd()\n",
    "a__ = g__ * a_"
   ]
  },
  {
   "cell_type": "code",
   "execution_count": 6,
   "id": "43f8bf4c82c52750",
   "metadata": {
    "collapsed": false,
    "is_executing": true
   },
   "outputs": [],
   "source": [
    "p = Prover(g__, a_)\n",
    "v = Verifier(g__, a__)"
   ]
  },
  {
   "cell_type": "code",
   "execution_count": 7,
   "id": "ffcbf58be789587a",
   "metadata": {
    "collapsed": false,
    "is_executing": true
   },
   "outputs": [
    {
     "name": "stdout",
     "output_type": "stream",
     "text": [
      "True\n"
     ]
    }
   ],
   "source": [
    "v.set_x(p.get_x())\n",
    "print(v.verify(p.get_s(v.get_c())))"
   ]
  }
 ],
 "metadata": {
  "kernelspec": {
   "display_name": "Python 3 (ipykernel)",
   "language": "python",
   "name": "python3"
  },
  "language_info": {
   "codemirror_mode": {
    "name": "ipython",
    "version": 3
   },
   "file_extension": ".py",
   "mimetype": "text/x-python",
   "name": "python",
   "nbconvert_exporter": "python",
   "pygments_lexer": "ipython3",
   "version": "3.10.12"
  }
 },
 "nbformat": 4,
 "nbformat_minor": 5
}
