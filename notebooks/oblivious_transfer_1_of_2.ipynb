{
 "cells": [
  {
   "cell_type": "code",
   "execution_count": 1,
   "id": "3794251a-4509-4803-b0f9-d9ed97b5e576",
   "metadata": {},
   "outputs": [],
   "source": [
    "import json\n",
    "import sys\n",
    "from typing import Any, Union\n",
    "import hashlib\n",
    "\n",
    "from mcl import Fr, G1\n",
    "\n",
    "sys.path.insert(1, '/home/jawitold/mcl')"
   ]
  },
  {
   "cell_type": "code",
   "execution_count": 2,
   "id": "be933168-cfbc-400d-bbc4-1cb34b04a7ee",
   "metadata": {},
   "outputs": [],
   "source": [
    "def byte_xor(ba1, ba2):\n",
    "    return bytes([_a ^ _b for _a, _b in zip(ba1, ba2)])\n",
    "\n",
    "\n",
    "def custom_encoder(obj: Any) -> Union[str, bytes]:\n",
    "    if hasattr(obj, 'getStr'):\n",
    "        return obj.getStr()\n",
    "    elif isinstance(obj, bytes):\n",
    "        return obj.decode('latin-1')\n",
    "    raise TypeError(\"Object of unsupported type\")\n",
    "\n",
    "\n",
    "def save_to_json(file_path: str, value: Any) -> None:\n",
    "    with open(file_path, 'w') as json_file:\n",
    "        json_file.write(json.dumps(value, default=custom_encoder))\n",
    "\n",
    "\n",
    "def load_from_json(file_path: str) -> Any:\n",
    "    with open(file_path, 'r') as file:\n",
    "        return json.load(file)"
   ]
  },
  {
   "cell_type": "code",
   "execution_count": 3,
   "id": "8f22e0fa-18b9-4104-b24f-46e74cfa6146",
   "metadata": {},
   "outputs": [],
   "source": [
    "def deserialize_to_g1(data: str):\n",
    "    g = G1()\n",
    "    g.setStr(bytes(data, 'latin-1'))\n",
    "    return g\n",
    "\n",
    "\n",
    "def deserialize_to_bytes(data):\n",
    "    return [bytes(key, 'latin-1') for key in data]"
   ]
  },
  {
   "cell_type": "code",
   "execution_count": 4,
   "id": "02a83776-ee65-4408-9a26-d00228f1a0c5",
   "metadata": {},
   "outputs": [],
   "source": [
    "class Client:\n",
    "    def __init__(self, seed: bytes, c: int) -> None:\n",
    "        self.key: bytes = b''\n",
    "        self.g__ = G1.hashAndMapTo(seed)\n",
    "        self.b_ = Fr.rnd()\n",
    "        self.c = c % 2\n",
    "\n",
    "    def get_b__(self, a__: G1) -> G1:\n",
    "        b__ = self.g__ * self.b_\n",
    "        self.key = hashlib.sha256((a__ * self.b_).getStr()).digest()\n",
    "        return b__ if self.c == 0 else a__ + b__\n",
    "\n",
    "    def decode(self, ciphertexts: list[bytes]) -> bytes:\n",
    "        return byte_xor(self.key, ciphertexts[self.c])"
   ]
  },
  {
   "cell_type": "code",
   "execution_count": 5,
   "id": "c8f8e1bf-0be8-47f6-929a-ffdb7f966401",
   "metadata": {},
   "outputs": [],
   "source": [
    "class Cloud:\n",
    "    def __init__(self, seed: bytes, messages: list[bytes]) -> None:\n",
    "        self.g__ = G1.hashAndMapTo(seed)\n",
    "        self.a_ = Fr.rnd()\n",
    "        self.messages = messages\n",
    "\n",
    "    def get_a__(self) -> G1:\n",
    "        return self.g__ * self.a_\n",
    "\n",
    "    def get_keys(self, b__: G1) -> list[bytes]:\n",
    "        return [hashlib.sha256((b__ * self.a_).getStr()).digest(),\n",
    "                hashlib.sha256(((b__ - self.get_a__()) * self.a_).getStr()).digest()]\n",
    "\n",
    "    def encode(self, keys: list[bytes]) -> list[bytes]:\n",
    "        return [byte_xor(key, message) for key, message in zip(keys, self.messages)]"
   ]
  },
  {
   "cell_type": "code",
   "execution_count": 6,
   "id": "985181fb-b357-47a4-bc34-23672d746635",
   "metadata": {},
   "outputs": [],
   "source": [
    "seed = b'seed'\n",
    "messages = [\n",
    "        b\"eps1.0_hellofriend.mov\",\n",
    "        b\"eps1.1_ones-and-zer0es.mpeg\",\n",
    "    ]"
   ]
  },
  {
   "cell_type": "code",
   "execution_count": 7,
   "id": "3ac1fbc6-f252-45fa-880b-b2e73773d2f5",
   "metadata": {},
   "outputs": [],
   "source": [
    "client_instance = Client(seed, 1)"
   ]
  },
  {
   "cell_type": "code",
   "execution_count": 8,
   "id": "e8706625-d2dd-41f1-8c9d-bb12960fcd00",
   "metadata": {},
   "outputs": [],
   "source": [
    "cloud_instance = Cloud(seed, messages)"
   ]
  },
  {
   "cell_type": "code",
   "execution_count": 9,
   "id": "4ba5bbac-9b85-4936-806b-a3068f3f59f8",
   "metadata": {},
   "outputs": [],
   "source": [
    "# Cloud\n",
    "save_to_json('../data/otp/a__.json', cloud_instance.get_a__())"
   ]
  },
  {
   "cell_type": "code",
   "execution_count": 10,
   "id": "9208f8a5-6aa6-43d8-8ab4-1b0029730f9b",
   "metadata": {},
   "outputs": [],
   "source": [
    "# Client\n",
    "l_a__ = load_from_json('../data/otp/a__.json')\n",
    "b__ = client_instance.get_b__(deserialize_to_g1(l_a__))\n",
    "save_to_json('../data/otp/b__.json', b__)"
   ]
  },
  {
   "cell_type": "code",
   "execution_count": 11,
   "id": "749383dc-2506-47f4-8e34-1d58bdad03ef",
   "metadata": {},
   "outputs": [],
   "source": [
    "# Client\n",
    "l_a__ = load_from_json('../data/otp/a__.json')\n",
    "b__ = client_instance.get_b__(deserialize_to_g1(l_a__))\n",
    "save_to_json('../data/otp/b__.json', b__)"
   ]
  },
  {
   "cell_type": "code",
   "execution_count": 12,
   "id": "8acc8570-55e5-42e2-bf15-d006159cf70b",
   "metadata": {},
   "outputs": [],
   "source": [
    "# Cloud\n",
    "l_b__ = load_from_json('../data/otp/b__.json')\n",
    "keys = cloud_instance.get_keys(deserialize_to_g1(l_b__))\n",
    "ciphertexts = cloud_instance.encode(keys)\n",
    "save_to_json('../data/otp/ciphertexts.json', ciphertexts)"
   ]
  },
  {
   "cell_type": "code",
   "execution_count": 13,
   "id": "19ed5978-9077-4684-8c05-3642f5e6fe45",
   "metadata": {},
   "outputs": [
    {
     "name": "stdout",
     "output_type": "stream",
     "text": [
      "b'eps1.1_ones-and-zer0es.mpeg'\n"
     ]
    }
   ],
   "source": [
    "# Client\n",
    "l_ciphertexts = load_from_json('../data/otp/ciphertexts.json')\n",
    "deserialized_ciphertexts = deserialize_to_bytes(l_ciphertexts)\n",
    "plain = client_instance.decode(deserialized_ciphertexts)\n",
    "print(plain)"
   ]
  }
 ],
 "metadata": {
  "kernelspec": {
   "display_name": "Python 3 (ipykernel)",
   "language": "python",
   "name": "python3"
  },
  "language_info": {
   "codemirror_mode": {
    "name": "ipython",
    "version": 3
   },
   "file_extension": ".py",
   "mimetype": "text/x-python",
   "name": "python",
   "nbconvert_exporter": "python",
   "pygments_lexer": "ipython3",
   "version": "3.10.12"
  }
 },
 "nbformat": 4,
 "nbformat_minor": 5
}
