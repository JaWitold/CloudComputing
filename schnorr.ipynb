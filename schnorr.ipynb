{
 "cells": [
  {
   "cell_type": "code",
   "execution_count": 1,
   "id": "initial_id",
   "metadata": {
    "is_executing": true
   },
   "outputs": [],
   "source": [
    "import sys\n",
    "sys.path.insert(1, '/home/jawitold/mcl')\n",
    "\n",
    "from mcl import Fr, G1"
   ]
  },
  {
   "cell_type": "code",
   "execution_count": 2,
   "id": "6971ad698ce2c122",
   "metadata": {
    "collapsed": false,
    "is_executing": true
   },
   "outputs": [],
   "source": [
    "class Prover:\n",
    "\n",
    "    def __init__(self, g: G1, a: Fr):\n",
    "        self.a = a\n",
    "        self.g = g\n",
    "        self.x = Fr.rnd()\n",
    "        self.X = g * self.x\n",
    "\n",
    "    def get_X(self):\n",
    "        return self.X\n",
    "\n",
    "    def get_s(self, c: Fr):\n",
    "        return self.x + self.a * c"
   ]
  },
  {
   "cell_type": "code",
   "execution_count": 3,
   "id": "5bfdf6b7532ca8a1",
   "metadata": {
    "collapsed": false,
    "is_executing": true
   },
   "outputs": [],
   "source": [
    "class Verifier:\n",
    "\n",
    "    def __init__(self, g: G1, A: G1):\n",
    "        self.X = None\n",
    "        self.c = None\n",
    "        self.g = g\n",
    "        self.A = A\n",
    "\n",
    "    def set_X(self, X: G1):\n",
    "        self.X = X\n",
    "\n",
    "    def get_c(self):\n",
    "        self.c = Fr.rnd()\n",
    "        return self.c\n",
    "\n",
    "    def verify(self, s: G1):\n",
    "        return self.g * s == self.X + (self.A * self.c)"
   ]
  },
  {
   "cell_type": "code",
   "execution_count": 4,
   "id": "49c7160be482ff91",
   "metadata": {
    "collapsed": false,
    "is_executing": true
   },
   "outputs": [],
   "source": [
    "# setup\n",
    "g = G1.hashAndMapTo(b\"test\")"
   ]
  },
  {
   "cell_type": "code",
   "execution_count": 5,
   "id": "8da44684c7601035",
   "metadata": {
    "collapsed": false,
    "is_executing": true
   },
   "outputs": [],
   "source": [
    "# keygen\n",
    "a = Fr.rnd()\n",
    "A = g * a"
   ]
  },
  {
   "cell_type": "code",
   "execution_count": 6,
   "id": "43f8bf4c82c52750",
   "metadata": {
    "collapsed": false,
    "is_executing": true
   },
   "outputs": [],
   "source": [
    "p = Prover(g, a)\n",
    "v = Verifier(g, A)"
   ]
  },
  {
   "cell_type": "code",
   "execution_count": 7,
   "id": "ffcbf58be789587a",
   "metadata": {
    "collapsed": false,
    "is_executing": true
   },
   "outputs": [
    {
     "name": "stdout",
     "output_type": "stream",
     "text": [
      "True\n"
     ]
    }
   ],
   "source": [
    "v.set_X(p.get_X())\n",
    "print(v.verify(p.get_s(v.get_c())))"
   ]
  }
 ],
 "metadata": {
  "kernelspec": {
   "display_name": "Python 3 (ipykernel)",
   "language": "python",
   "name": "python3"
  },
  "language_info": {
   "codemirror_mode": {
    "name": "ipython",
    "version": 3
   },
   "file_extension": ".py",
   "mimetype": "text/x-python",
   "name": "python",
   "nbconvert_exporter": "python",
   "pygments_lexer": "ipython3",
   "version": "3.10.12"
  }
 },
 "nbformat": 4,
 "nbformat_minor": 5
}
