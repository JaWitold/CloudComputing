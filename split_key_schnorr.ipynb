{
 "cells": [
  {
   "cell_type": "code",
   "execution_count": 1,
   "id": "initial_id",
   "metadata": {
    "is_executing": true
   },
   "outputs": [],
   "source": [
    "import sys\n",
    "sys.path.insert(1, '/home/jawitold/mcl')\n",
    "\n",
    "from mcl import Fr, G1"
   ]
  },
  {
   "cell_type": "code",
   "execution_count": 2,
   "id": "6971ad698ce2c122",
   "metadata": {
    "collapsed": false,
    "is_executing": true,
    "jupyter": {
     "outputs_hidden": false
    }
   },
   "outputs": [],
   "source": [
    "class Prover:\n",
    "\n",
    "    def __init__(self, g_1: G1, g_2: G1, a_1: Fr, a_2: Fr):\n",
    "        self.a_1 = a_1\n",
    "        self.a_2 = a_2\n",
    "        self.g_1 = g_1\n",
    "        self.g_2 = g_2\n",
    "\n",
    "        self.x_1 = Fr.rnd()\n",
    "        self.x_2 = Fr.rnd()\n",
    "\n",
    "        self.X = g_1 * self.x_1 + g_2 * self.x_2\n",
    "\n",
    "    def get_X(self):\n",
    "        return self.X\n",
    "\n",
    "    def get_ss(self, c: Fr):\n",
    "        return self.x_1 + self.a_1 * c, self.x_2 + self.a_2 * c"
   ]
  },
  {
   "cell_type": "code",
   "execution_count": 3,
   "id": "5bfdf6b7532ca8a1",
   "metadata": {
    "collapsed": false,
    "is_executing": true,
    "jupyter": {
     "outputs_hidden": false
    }
   },
   "outputs": [],
   "source": [
    "class Verifier:\n",
    "\n",
    "    def __init__(self, g_1: G1, g_2: G1, A: G1):\n",
    "        self.X = None\n",
    "        self.c = None\n",
    "        self.g_1 = g_1\n",
    "        self.g_2 = g_2\n",
    "        self.A = A\n",
    "\n",
    "    def set_X(self, X: G1):\n",
    "        self.X = X\n",
    "\n",
    "    def get_c(self):\n",
    "        self.c = Fr.rnd()\n",
    "        return self.c\n",
    "\n",
    "    def verify(self, ss: (G1, G1)):\n",
    "        s_1, s_2 = ss\n",
    "        return self.g_1 * s_1 + g_2 * s_2 == self.X + (self.A * self.c)"
   ]
  },
  {
   "cell_type": "code",
   "execution_count": 4,
   "id": "49c7160be482ff91",
   "metadata": {
    "collapsed": false,
    "is_executing": true,
    "jupyter": {
     "outputs_hidden": false
    }
   },
   "outputs": [],
   "source": [
    "# setup\n",
    "g_1 = G1.hashAndMapTo(b\"abcd\")\n",
    "g_2 = G1.hashAndMapTo(b\"efgh\")"
   ]
  },
  {
   "cell_type": "code",
   "execution_count": 5,
   "id": "8da44684c7601035",
   "metadata": {
    "collapsed": false,
    "is_executing": true,
    "jupyter": {
     "outputs_hidden": false
    }
   },
   "outputs": [],
   "source": [
    "# keygen\n",
    "a_1 = Fr.rnd()\n",
    "a_2 = Fr.rnd()\n",
    "\n",
    "A = g_1 * a_1 + g_2 * a_2"
   ]
  },
  {
   "cell_type": "code",
   "execution_count": 6,
   "id": "43f8bf4c82c52750",
   "metadata": {
    "collapsed": false,
    "is_executing": true,
    "jupyter": {
     "outputs_hidden": false
    }
   },
   "outputs": [],
   "source": [
    "p = Prover(g_1, g_2, a_1, a_2)\n",
    "\n",
    "v = Verifier(g_1, g_2, A)"
   ]
  },
  {
   "cell_type": "code",
   "execution_count": 7,
   "id": "ffcbf58be789587a",
   "metadata": {
    "collapsed": false,
    "is_executing": true,
    "jupyter": {
     "outputs_hidden": false
    }
   },
   "outputs": [
    {
     "name": "stdout",
     "output_type": "stream",
     "text": [
      "True\n"
     ]
    }
   ],
   "source": [
    "v.set_X(p.get_X())\n",
    "\n",
    "c = v.get_c()\n",
    "print(v.verify(p.get_ss(c)))"
   ]
  }
 ],
 "metadata": {
  "kernelspec": {
   "display_name": "Python 3 (ipykernel)",
   "language": "python",
   "name": "python3"
  },
  "language_info": {
   "codemirror_mode": {
    "name": "ipython",
    "version": 3
   },
   "file_extension": ".py",
   "mimetype": "text/x-python",
   "name": "python",
   "nbconvert_exporter": "python",
   "pygments_lexer": "ipython3",
   "version": "3.10.12"
  }
 },
 "nbformat": 4,
 "nbformat_minor": 5
}
